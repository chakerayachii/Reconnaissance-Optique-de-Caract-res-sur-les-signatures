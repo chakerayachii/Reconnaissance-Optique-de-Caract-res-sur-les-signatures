{
 "cells": [
  {
   "cell_type": "code",
   "execution_count": 1,
   "id": "0ec868a6",
   "metadata": {},
   "outputs": [],
   "source": [
    "from tensorflow.keras.utils import load_img\n",
    "from tensorflow.keras.utils import img_to_array\n",
    "from tensorflow.keras.applications.vgg16 import preprocess_input\n",
    "from tensorflow.keras.applications.vgg16 import decode_predictions\n",
    "from tensorflow.keras.applications.vgg16 import VGG16\n",
    "\n"
   ]
  },
  {
   "cell_type": "code",
   "execution_count": 2,
   "id": "003e5e25",
   "metadata": {},
   "outputs": [],
   "source": [
    "model = VGG16()\n"
   ]
  },
  {
   "cell_type": "code",
   "execution_count": 8,
   "id": "bf172c79",
   "metadata": {},
   "outputs": [],
   "source": [
    "# Importation des 3 images suivantes : chèque  de Attijeri Bank, chèque  de ATB Bank, chèque  de BNA Bank.\n",
    "img1 = load_img('n1.png', target_size=(224, 224))\n",
    "img2 = load_img('kkk.jpg', target_size=(224, 224))\n",
    "img3 = load_img('cheque.jpg', target_size=(224, 224))"
   ]
  },
  {
   "cell_type": "code",
   "execution_count": 9,
   "id": "963ae4c9",
   "metadata": {},
   "outputs": [],
   "source": [
    "# Conversion image (matrice de pixels) en un numpy array\n",
    "def preprocess(image) :\n",
    "    image = img_to_array(image)\n",
    "\n",
    "    # Redimensionnage \n",
    "    image = image.reshape((1, image.shape[0], image.shape[1], image.shape[2]))\n",
    "\n",
    "    # Preprocessing\n",
    "    image = preprocess_input(image)\n",
    "    \n",
    "    return image"
   ]
  },
  {
   "cell_type": "code",
   "execution_count": 12,
   "id": "97940142",
   "metadata": {},
   "outputs": [
    {
     "name": "stdout",
     "output_type": "stream",
     "text": [
      "1/1 [==============================] - 0s 487ms/step\n",
      "1/1 [==============================] - 0s 455ms/step\n",
      "Prédiction image 1 : unicycle avec une probabilité de 8.88 %\n",
      "1/1 [==============================] - 0s 451ms/step\n",
      "1/1 [==============================] - 0s 432ms/step\n",
      "Prédiction image 2 : nematode avec une probabilité de 44.84 %\n",
      "1/1 [==============================] - 0s 453ms/step\n",
      "1/1 [==============================] - 0s 472ms/step\n",
      "Prédiction image 3 : menu avec une probabilité de 66.53 %\n"
     ]
    }
   ],
   "source": [
    "def pred_modele(image) :\n",
    "    \n",
    "    image = preprocess(image)\n",
    "    # Prédiction\n",
    "    y_pred = model.predict(image)\n",
    "\n",
    "    # Conversion des probabilités en classe label\n",
    "    label = decode_predictions(y_pred)\n",
    "    \n",
    "    # Affectation du label ayant la plus grande probabilité\n",
    "    label = label[0][0]\n",
    "\n",
    " \n",
    "    return ((label[1], label[2]*100))\n",
    "\n",
    "img=[img1,img2,img3]\n",
    "\n",
    "for i in range(3) :\n",
    "    print(\"Prédiction image\",i+1,\":\",pred_modele (img[i])[0], 'avec une probabilité de',round(pred_modele (img[i])[1],2),'%')\n",
    "    "
   ]
  },
  {
   "cell_type": "code",
   "execution_count": 16,
   "id": "6564b1b5",
   "metadata": {},
   "outputs": [
    {
     "name": "stdout",
     "output_type": "stream",
     "text": [
      "1/1 [==============================] - 0s 469ms/step\n"
     ]
    },
    {
     "data": {
      "text/html": [
       "<div>\n",
       "<style scoped>\n",
       "    .dataframe tbody tr th:only-of-type {\n",
       "        vertical-align: middle;\n",
       "    }\n",
       "\n",
       "    .dataframe tbody tr th {\n",
       "        vertical-align: top;\n",
       "    }\n",
       "\n",
       "    .dataframe thead th {\n",
       "        text-align: right;\n",
       "    }\n",
       "</style>\n",
       "<table border=\"1\" class=\"dataframe\">\n",
       "  <thead>\n",
       "    <tr style=\"text-align: right;\">\n",
       "      <th></th>\n",
       "      <th>Etiquette</th>\n",
       "      <th>Probabilité (%)</th>\n",
       "    </tr>\n",
       "  </thead>\n",
       "  <tbody>\n",
       "    <tr>\n",
       "      <th>1</th>\n",
       "      <td>menu</td>\n",
       "      <td>66.53</td>\n",
       "    </tr>\n",
       "    <tr>\n",
       "      <th>2</th>\n",
       "      <td>envelope</td>\n",
       "      <td>5.14</td>\n",
       "    </tr>\n",
       "    <tr>\n",
       "      <th>3</th>\n",
       "      <td>packet</td>\n",
       "      <td>4.88</td>\n",
       "    </tr>\n",
       "    <tr>\n",
       "      <th>4</th>\n",
       "      <td>crossword_puzzle</td>\n",
       "      <td>1.90</td>\n",
       "    </tr>\n",
       "    <tr>\n",
       "      <th>5</th>\n",
       "      <td>toilet_tissue</td>\n",
       "      <td>1.89</td>\n",
       "    </tr>\n",
       "  </tbody>\n",
       "</table>\n",
       "</div>"
      ],
      "text/plain": [
       "          Etiquette  Probabilité (%)\n",
       "1              menu            66.53\n",
       "2          envelope             5.14\n",
       "3            packet             4.88\n",
       "4  crossword_puzzle             1.90\n",
       "5     toilet_tissue             1.89"
      ]
     },
     "execution_count": 16,
     "metadata": {},
     "output_type": "execute_result"
    }
   ],
   "source": [
    "import pandas as pd\n",
    "\n",
    "img = load_img('cheque.jpg', target_size=(224, 224))\n",
    "img = preprocess(img)\n",
    "\n",
    "# Prédiction\n",
    "y_pred = model.predict(img)\n",
    "\n",
    "# Création d'un DataFrame avec les 5 labels les plus probables\n",
    "label_5_plus_probable = decode_predictions(y_pred)\n",
    "\n",
    "l=[]\n",
    "m=[]\n",
    "for i in range(5) :\n",
    "    l.append(label_5_plus_probable[0][i][1])\n",
    "    m.append(round(label_5_plus_probable[0][i][2]*100,2))\n",
    "    \n",
    "df_5_plus_probable=pd.DataFrame({'Etiquette': l, 'Probabilité (%)' : m},index = list(range(1,6)))\n",
    "df_5_plus_probable"
   ]
  },
  {
   "cell_type": "code",
   "execution_count": null,
   "id": "73dce550",
   "metadata": {},
   "outputs": [],
   "source": []
  },
  {
   "cell_type": "code",
   "execution_count": null,
   "id": "8d2ec856",
   "metadata": {},
   "outputs": [],
   "source": []
  }
 ],
 "metadata": {
  "kernelspec": {
   "display_name": "Python 3 (ipykernel)",
   "language": "python",
   "name": "python3"
  },
  "language_info": {
   "codemirror_mode": {
    "name": "ipython",
    "version": 3
   },
   "file_extension": ".py",
   "mimetype": "text/x-python",
   "name": "python",
   "nbconvert_exporter": "python",
   "pygments_lexer": "ipython3",
   "version": "3.9.7"
  }
 },
 "nbformat": 4,
 "nbformat_minor": 5
}
